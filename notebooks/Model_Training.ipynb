{
 "cells": [
  {
   "cell_type": "code",
   "execution_count": 120,
   "metadata": {},
   "outputs": [],
   "source": [
    "import os\n",
    "import pandas as pd\n",
    "import numpy as np\n",
    "\n",
    "processed_data_path=os.path.join(os.path.pardir,'data','processed')\n",
    "write_train_path=os.path.join(processed_data_path,'train.csv')\n",
    "write_test_path=os.path.join(processed_data_path,'test.csv')\n",
    "\n",
    "train_df=pd.read_csv(write_train_path,index_col='Id')\n",
    "test_df=pd.read_csv(write_test_path,index_col='Id')"
   ]
  },
  {
   "cell_type": "code",
   "execution_count": 121,
   "metadata": {},
   "outputs": [
    {
     "name": "stderr",
     "output_type": "stream",
     "text": [
      "C:\\ProgramData\\Anaconda2\\lib\\site-packages\\ipykernel_launcher.py:1: FutureWarning: Method .as_matrix will be removed in a future version. Use .values instead.\n",
      "  \"\"\"Entry point for launching an IPython kernel.\n"
     ]
    }
   ],
   "source": [
    "X=train_df.loc[:,'LotFrontage':].as_matrix().astype('float');\n",
    "y=train_df['SalePrice'].ravel()"
   ]
  },
  {
   "cell_type": "code",
   "execution_count": 122,
   "metadata": {},
   "outputs": [
    {
     "name": "stdout",
     "output_type": "stream",
     "text": [
      "(1460L, 369L)\n",
      "(1460L,)\n"
     ]
    }
   ],
   "source": [
    "print(X.shape)\n",
    "print(y.shape)"
   ]
  },
  {
   "cell_type": "code",
   "execution_count": 123,
   "metadata": {},
   "outputs": [
    {
     "name": "stdout",
     "output_type": "stream",
     "text": [
      "180808.89897260274\n",
      "181370.38356164383\n"
     ]
    }
   ],
   "source": [
    "from sklearn.model_selection import train_test_split\n",
    "X_train,X_test,y_train,y_test=train_test_split(X,y,test_size=0.20,random_state=0)\n",
    "\n",
    "print np.mean(y_train)\n",
    "print np.mean(y_test)"
   ]
  },
  {
   "cell_type": "code",
   "execution_count": 124,
   "metadata": {},
   "outputs": [],
   "source": [
    "import sklearn\n",
    "from sklearn.dummy import DummyRegressor"
   ]
  },
  {
   "cell_type": "code",
   "execution_count": 125,
   "metadata": {},
   "outputs": [
    {
     "data": {
      "text/plain": [
       "-4.5651866949603104e-05"
      ]
     },
     "execution_count": 125,
     "metadata": {},
     "output_type": "execute_result"
    }
   ],
   "source": [
    "model_dummy=DummyRegressor(strategy='mean')\n",
    "model_dummy.fit(X_train,y_train)\n",
    "model_dummy.score(X_test,y_test)"
   ]
  },
  {
   "cell_type": "code",
   "execution_count": 126,
   "metadata": {},
   "outputs": [
    {
     "data": {
      "text/plain": [
       "-4.5651866949603104e-05"
      ]
     },
     "execution_count": 126,
     "metadata": {},
     "output_type": "execute_result"
    }
   ],
   "source": [
    "from sklearn.metrics import r2_score\n",
    "r2_score(y_test,model_dummy.predict(X_test))"
   ]
  },
  {
   "cell_type": "code",
   "execution_count": null,
   "metadata": {},
   "outputs": [],
   "source": []
  },
  {
   "cell_type": "code",
   "execution_count": 138,
   "metadata": {},
   "outputs": [],
   "source": [
    "submission_data_path=os.path.join(os.path.pardir,'data','external')\n",
    "submission_file_path=os.path.join(submission_data_path,'01_dummy.csv')\n",
    "\n",
    "def get_submission_file(model,filename):\n",
    "    test_X=test_df.loc[:,'LotFrontage':].as_matrix().astype('float')    \n",
    "    predictions=model.predict(test_X)\n",
    "    df_submission=pd.DataFrame({'Id':test_df.index,'SalePrice':predictions})\n",
    "    submission_data_path=os.path.join(os.path.pardir,'data','external')\n",
    "    submission_file_path=os.path.join(submission_data_path,filename)\n",
    "    df_submission.to_csv(submission_file_path,index=False)"
   ]
  },
  {
   "cell_type": "code",
   "execution_count": 139,
   "metadata": {},
   "outputs": [
    {
     "name": "stderr",
     "output_type": "stream",
     "text": [
      "C:\\ProgramData\\Anaconda2\\lib\\site-packages\\ipykernel_launcher.py:5: FutureWarning: Method .as_matrix will be removed in a future version. Use .values instead.\n",
      "  \"\"\"\n"
     ]
    }
   ],
   "source": [
    "get_submission_file(model_dummy,'03_dummy.csv')"
   ]
  },
  {
   "cell_type": "code",
   "execution_count": 140,
   "metadata": {},
   "outputs": [
    {
     "data": {
      "text/html": [
       "<h2>LINEAR REGRESSION MODEL</h2>"
      ],
      "text/plain": [
       "<IPython.core.display.HTML object>"
      ]
     },
     "metadata": {},
     "output_type": "display_data"
    }
   ],
   "source": [
    "%%HTML\n",
    "<h2>LINEAR REGRESSION MODEL</h2>"
   ]
  },
  {
   "cell_type": "code",
   "execution_count": 141,
   "metadata": {},
   "outputs": [
    {
     "data": {
      "text/plain": [
       "0.4843063391208693"
      ]
     },
     "execution_count": 141,
     "metadata": {},
     "output_type": "execute_result"
    }
   ],
   "source": [
    "from sklearn.linear_model import LinearRegression\n",
    "model_lr=LinearRegression()\n",
    "model_lr.fit(X_train,y_train)\n",
    "model_lr.score(X_test,y_test)"
   ]
  },
  {
   "cell_type": "code",
   "execution_count": 148,
   "metadata": {
    "scrolled": true
   },
   "outputs": [
    {
     "name": "stderr",
     "output_type": "stream",
     "text": [
      "C:\\ProgramData\\Anaconda2\\lib\\site-packages\\ipykernel_launcher.py:5: FutureWarning: Method .as_matrix will be removed in a future version. Use .values instead.\n",
      "  \"\"\"\n"
     ]
    }
   ],
   "source": [
    "\n",
    "get_submission_file(model_lr,'01_lr.csv')"
   ]
  },
  {
   "cell_type": "code",
   "execution_count": 149,
   "metadata": {},
   "outputs": [],
   "source": [
    "#from sklearn.preprocessing import MinMaxScaler,StandardScaler\n",
    "# standardization\n",
    "#scaler=StandardScaler()\n",
    "#X_train_scaled=scaler.fit_transform(X_train)\n",
    "#X_test_scaled=scaler.fit_transform(X_test)"
   ]
  },
  {
   "cell_type": "code",
   "execution_count": 144,
   "metadata": {},
   "outputs": [],
   "source": [
    "model_lr=LinearRegression()"
   ]
  },
  {
   "cell_type": "code",
   "execution_count": 150,
   "metadata": {},
   "outputs": [
    {
     "data": {
      "text/plain": [
       "LinearRegression(copy_X=True, fit_intercept=True, n_jobs=1, normalize=False)"
      ]
     },
     "execution_count": 150,
     "metadata": {},
     "output_type": "execute_result"
    }
   ],
   "source": [
    "model_lr.fit(X_train,y_train)"
   ]
  },
  {
   "cell_type": "code",
   "execution_count": 151,
   "metadata": {},
   "outputs": [],
   "source": [
    "from sklearn.model_selection import GridSearchCV\n",
    "paramters={'normalize':[True,False],'fit_intercept':[True,False]}\n",
    "clf=GridSearchCV(model_lr,paramters,cv=15)"
   ]
  },
  {
   "cell_type": "code",
   "execution_count": 152,
   "metadata": {},
   "outputs": [
    {
     "data": {
      "text/plain": [
       "GridSearchCV(cv=15, error_score='raise',\n",
       "       estimator=LinearRegression(copy_X=True, fit_intercept=True, n_jobs=1, normalize=False),\n",
       "       fit_params=None, iid=True, n_jobs=1,\n",
       "       param_grid={'normalize': [True, False], 'fit_intercept': [True, False]},\n",
       "       pre_dispatch='2*n_jobs', refit=True, return_train_score='warn',\n",
       "       scoring=None, verbose=0)"
      ]
     },
     "execution_count": 152,
     "metadata": {},
     "output_type": "execute_result"
    }
   ],
   "source": [
    "clf.fit(X_train,y_train)"
   ]
  },
  {
   "cell_type": "code",
   "execution_count": 153,
   "metadata": {},
   "outputs": [
    {
     "data": {
      "text/plain": [
       "0.8632159049057232"
      ]
     },
     "execution_count": 153,
     "metadata": {},
     "output_type": "execute_result"
    }
   ],
   "source": [
    "clf.best_score_"
   ]
  },
  {
   "cell_type": "code",
   "execution_count": 154,
   "metadata": {},
   "outputs": [
    {
     "data": {
      "text/plain": [
       "{'fit_intercept': True, 'normalize': False}"
      ]
     },
     "execution_count": 154,
     "metadata": {},
     "output_type": "execute_result"
    }
   ],
   "source": [
    "clf.best_params_"
   ]
  },
  {
   "cell_type": "code",
   "execution_count": 156,
   "metadata": {},
   "outputs": [
    {
     "name": "stdout",
     "output_type": "stream",
     "text": [
      "0.5707670219642678\n"
     ]
    },
    {
     "data": {
      "text/plain": [
       "array([274667.25892994, 155865.45355099, 106061.6089573 , 214949.12055133,\n",
       "        95149.76991033,  58363.08875694, 264938.2056167 , 125008.95475637,\n",
       "       481199.09274702, 152819.44538429, 206359.46039321,  46303.73858402,\n",
       "       237008.18259626,  98870.92408175, 106399.68722836, 143818.34631158,\n",
       "       239084.0025078 , 133641.66873867, 148258.52109212, 162386.96504063,\n",
       "       140313.82673936, 172007.4811586 ,  98024.29748515, 153542.15446079,\n",
       "       194531.87431503, 169687.9662504 , 168422.5611753 ,  71328.87014667,\n",
       "       326864.75428656, 112309.19236085, 152140.63395453, 199874.87932647,\n",
       "       136693.03612657, 294858.86383518, 337198.70986123, 206479.90620134,\n",
       "       309973.04704249, 116833.50629914, 227021.77570469, 348456.93804767,\n",
       "       198038.28293101,  98683.15766   , 197366.74139992, 295289.29564804,\n",
       "       367302.0657754 , 129639.30075303,    943.33164946, 123996.53332588,\n",
       "       169153.08855724,  99863.57637492, 413813.49687635, 144118.48575669,\n",
       "       167061.23169197,  94176.06603839, 234124.43819525, 109556.10369551,\n",
       "        98611.74880537, 221046.14211567, 133645.01468321,  48105.50900534,\n",
       "       147101.12362117, 121179.06806788, 127929.6664669 , 154688.89384479,\n",
       "       212895.0619022 , 158694.42504165, 128989.92970728, 225007.22557272,\n",
       "       145615.56745387, 212041.66390885, 177197.37698454, 157918.95606045,\n",
       "        40819.80636119, 262813.10198383,  73055.66479139, 246517.84915629,\n",
       "       117404.28755972, 106687.71388342, 273072.24825836, 190944.95416862,\n",
       "       138813.12234202, 141658.36463587, 149626.98255599, 154370.48163458,\n",
       "       277863.03075236, 187322.8149118 , 113556.52274122, 210319.00058343,\n",
       "       152240.21288992, 136855.03329705, 187611.43434512, 177776.1113606 ,\n",
       "       178494.57737609, 228748.02270764, 205980.44171304, 160810.97332613,\n",
       "       215428.13065492, 153732.36275759, 125780.77811742, 165827.48981351,\n",
       "       242152.37217946, 234295.87906809, 121543.58108208, 146929.62533808,\n",
       "        89875.28298482, 278576.44857561, 180454.09116722, 106421.99682922,\n",
       "       183698.1427958 , 117776.36514621,  98459.11994055, 104918.55425212,\n",
       "       190026.15574828, 116033.2612033 , 180295.27053004, 167551.8042449 ,\n",
       "       443504.07577874, 121750.15113236, 206604.90786291, 245392.19936625,\n",
       "       161254.18263681, 143881.37744297, 126905.45730582, 180118.33812507,\n",
       "       208233.69590628, 279735.14882066, 400955.36751534, 202451.88474441,\n",
       "       205223.89808896, 167847.38616476, 204006.74653473, 184590.5933067 ,\n",
       "       157590.87093883, 189461.16064624,  96627.15720076, 206725.72468576,\n",
       "       149376.33131354, 171290.15309975, 103895.2509532 , 170707.277532  ,\n",
       "       164020.24868158, 124364.13269912, 240279.59188434, 143875.98478775,\n",
       "       148021.5721549 , 162370.07313901, 198282.3776171 , 142020.76689302,\n",
       "       315836.57538731, 231031.61693334, 179710.8832319 , 376329.61843296,\n",
       "       305052.77318092, 172370.11231664, 171586.46278649, 267899.07167637,\n",
       "       169105.38354014, 193747.74011678, 131793.53412475, 156659.6038036 ,\n",
       "       123824.14036341, 139080.06374385, 201312.48270144, 137378.71261344,\n",
       "       225054.75601908, 124751.03603677, 137565.64932012, 285722.94382977,\n",
       "       213676.31837032, 167792.01453508, 200239.19226007, 165952.78620685,\n",
       "       192718.31084378, 166905.89853955, 105677.92790925, 127524.74705439,\n",
       "       130457.92911924, 263399.74582793, 103431.79243895, 134060.44965403,\n",
       "       275002.14127137, 171958.36747693, 114281.26627858, 288117.5262019 ,\n",
       "       111068.8657856 , 195708.10405148,  94243.23549458, 220160.15652505,\n",
       "       213813.51644055, 128020.82387909, 141421.62941929, 170769.23882904,\n",
       "       205522.04006634, 143993.59918692, 140968.68415692, 144586.58999018,\n",
       "        67482.45664464, 115872.28050524, 167806.72898684, 122347.41768455,\n",
       "       116108.79346986, 197451.02546638, 132960.67873813, 113044.72105823,\n",
       "       135828.98584567, 204765.7939204 , 158123.4305717 , 336789.69436771,\n",
       "       265965.19271246,  68549.07692096, 160378.73475108, 268671.0064076 ,\n",
       "        96808.31604019, 109244.4096403 , 402706.2760193 , 165148.85204379,\n",
       "       179785.94232007, 282651.06823179, 239906.25778516,  79462.18602808,\n",
       "       189623.78833314, 127812.22599191, 107576.03778493, 124009.16057121,\n",
       "       205491.5493648 , 264788.85995093, 219342.27743799, 191421.85016562,\n",
       "       130568.34201134, 155087.64316012, 105548.07189538, 114079.04828585,\n",
       "        94972.04623098, 148734.95189151, 260215.48033389, 126885.16987944,\n",
       "       116951.95098992, 117702.84004935,  88011.79616541, 187514.26913689,\n",
       "        99695.1282656 , 202817.40864112, 192377.74533682, 206111.8920581 ,\n",
       "       203788.15064   , 172246.07865525, 219421.40449881, 186905.15632065,\n",
       "       156883.08524281, 190954.92260661, 185024.687486  , 263219.08522109,\n",
       "        81560.19017916, 492890.96711046, 242977.81846703, 216316.04427428,\n",
       "        96986.38260034, 217067.18941228, 444699.22052057, 928739.65032308,\n",
       "       198506.15300812,  77692.11343068, 140271.52170546, 113365.61850767,\n",
       "       -22339.68118062, 367112.32754708, 341871.43749051, -40198.90526248,\n",
       "       236106.69290633, 224642.67785633, 133945.6225098 , 226177.1926301 ,\n",
       "       161370.4374512 , 172419.33521561, 121243.66370296, 240747.12679483,\n",
       "       224934.86277783, 226243.65004462, 203263.43211126,  78052.29281363,\n",
       "       136878.35328416, 367832.22827336, 170270.43836225, 149291.09512233,\n",
       "       197473.8378333 , 164190.93314826, 130653.88762836, 317109.62978041,\n",
       "       491230.58391958, 221690.35692288, 106912.23435659,  97116.50334001])"
      ]
     },
     "execution_count": 156,
     "metadata": {},
     "output_type": "execute_result"
    }
   ],
   "source": [
    "#clf.score(X_test_scaled ,y_test)\n",
    "print(r2_score(clf.predict(X_test),y_test))\n",
    "clf.predict(X_test)"
   ]
  },
  {
   "cell_type": "code",
   "execution_count": 157,
   "metadata": {},
   "outputs": [],
   "source": [
    "import pickle\n",
    "model_file_path=os.path.join(os.path.pardir,'models','lr_model.pkl')\n",
    "#scaler_file_path=os.path.join(os.path.pardir,'models','lr_scaler.pkl')\n",
    "\n",
    "model_file_pickle=open(model_file_path,'wb')\n",
    "#scaler_file_pickle=open(scaler_file_path,'wb')\n",
    "\n",
    "pickle.dump(clf,model_file_pickle)\n",
    "#pickle.dump(scaler,scaler_file_pickle)\n",
    "\n",
    "model_file_pickle.close()\n",
    "#scaler_file_pickle.close()"
   ]
  },
  {
   "cell_type": "code",
   "execution_count": 66,
   "metadata": {},
   "outputs": [],
   "source": [
    "def get_submission_file_new(model,filename):\n",
    "    test_X=test_df.loc[:,'LotFrontage':].as_matrix().astype('float')  \n",
    "    #test_X_scaled=scaler.fit_transform(test_X)\n",
    "    predictions=model.predict(test_X)\n",
    "    df_submission=pd.DataFrame({'Id':test_df.index,'SalePrice':predictions})\n",
    "    submission_data_path=os.path.join(os.path.pardir,'data','external')\n",
    "    submission_file_path=os.path.join(submission_data_path,filename)\n",
    "    df_submission.to_csv(submission_file_path,index=False)"
   ]
  },
  {
   "cell_type": "code",
   "execution_count": 158,
   "metadata": {},
   "outputs": [
    {
     "name": "stderr",
     "output_type": "stream",
     "text": [
      "C:\\ProgramData\\Anaconda2\\lib\\site-packages\\ipykernel_launcher.py:5: FutureWarning: Method .as_matrix will be removed in a future version. Use .values instead.\n",
      "  \"\"\"\n"
     ]
    }
   ],
   "source": [
    "get_submission_file(clf,'02_lr.csv')"
   ]
  },
  {
   "cell_type": "code",
   "execution_count": 159,
   "metadata": {},
   "outputs": [],
   "source": [
    "new_lr_model=LinearRegression(normalize=True)"
   ]
  },
  {
   "cell_type": "code",
   "execution_count": 160,
   "metadata": {},
   "outputs": [
    {
     "data": {
      "text/plain": [
       "LinearRegression(copy_X=True, fit_intercept=True, n_jobs=1, normalize=True)"
      ]
     },
     "execution_count": 160,
     "metadata": {},
     "output_type": "execute_result"
    }
   ],
   "source": [
    "new_lr_model.fit(X_train,y_train)"
   ]
  },
  {
   "cell_type": "code",
   "execution_count": 161,
   "metadata": {},
   "outputs": [
    {
     "name": "stderr",
     "output_type": "stream",
     "text": [
      "C:\\ProgramData\\Anaconda2\\lib\\site-packages\\ipykernel_launcher.py:1: FutureWarning: Method .as_matrix will be removed in a future version. Use .values instead.\n",
      "  \"\"\"Entry point for launching an IPython kernel.\n"
     ]
    }
   ],
   "source": [
    "test_X=test_df.loc[:,'LotFrontage':].as_matrix().astype('float')  \n",
    "predictions=new_lr_model.predict(test_X)\n",
    "df_submission=pd.DataFrame({'Id':test_df.index,'SalePrice':predictions})\n",
    "submission_data_path=os.path.join(os.path.pardir,'data','external')\n",
    "submission_file_path=os.path.join(submission_data_path,'unscaled.csv')\n",
    "df_submission.to_csv(submission_file_path,index=False)"
   ]
  },
  {
   "cell_type": "code",
   "execution_count": null,
   "metadata": {},
   "outputs": [],
   "source": []
  },
  {
   "cell_type": "code",
   "execution_count": 162,
   "metadata": {},
   "outputs": [
    {
     "data": {
      "text/plain": [
       "180921.19589041095"
      ]
     },
     "execution_count": 162,
     "metadata": {},
     "output_type": "execute_result"
    }
   ],
   "source": [
    "train_df.SalePrice.mean()"
   ]
  },
  {
   "cell_type": "code",
   "execution_count": 163,
   "metadata": {},
   "outputs": [
    {
     "data": {
      "text/plain": [
       "163000.0"
      ]
     },
     "execution_count": 163,
     "metadata": {},
     "output_type": "execute_result"
    }
   ],
   "source": [
    "train_df.SalePrice.median()"
   ]
  },
  {
   "cell_type": "code",
   "execution_count": 164,
   "metadata": {},
   "outputs": [
    {
     "data": {
      "text/plain": [
       "array([117960., 147112., 192168., ..., 180472., 111736., 208376.])"
      ]
     },
     "execution_count": 164,
     "metadata": {},
     "output_type": "execute_result"
    }
   ],
   "source": [
    "predictions # :("
   ]
  },
  {
   "cell_type": "code",
   "execution_count": null,
   "metadata": {},
   "outputs": [],
   "source": []
  },
  {
   "cell_type": "code",
   "execution_count": null,
   "metadata": {},
   "outputs": [],
   "source": []
  }
 ],
 "metadata": {
  "kernelspec": {
   "display_name": "Python 2",
   "language": "python",
   "name": "python2"
  },
  "language_info": {
   "codemirror_mode": {
    "name": "ipython",
    "version": 2
   },
   "file_extension": ".py",
   "mimetype": "text/x-python",
   "name": "python",
   "nbconvert_exporter": "python",
   "pygments_lexer": "ipython2",
   "version": "2.7.15"
  }
 },
 "nbformat": 4,
 "nbformat_minor": 2
}
