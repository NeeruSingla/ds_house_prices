{
 "cells": [
  {
   "cell_type": "code",
   "execution_count": 120,
   "metadata": {},
   "outputs": [],
   "source": [
    "import os\n",
    "import pandas as pd\n",
    "import numpy as np\n",
    "\n",
    "processed_data_path=os.path.join(os.path.pardir,'data','processed')\n",
    "write_train_path=os.path.join(processed_data_path,'train.csv')\n",
    "write_test_path=os.path.join(processed_data_path,'test.csv')\n",
    "\n",
    "train_df=pd.read_csv(write_train_path,index_col='Id')\n",
    "test_df=pd.read_csv(write_test_path,index_col='Id')"
   ]
  },
  {
   "cell_type": "code",
   "execution_count": 121,
   "metadata": {},
   "outputs": [
    {
     "name": "stderr",
     "output_type": "stream",
     "text": [
      "C:\\ProgramData\\Anaconda2\\lib\\site-packages\\ipykernel_launcher.py:1: FutureWarning: Method .as_matrix will be removed in a future version. Use .values instead.\n",
      "  \"\"\"Entry point for launching an IPython kernel.\n"
     ]
    }
   ],
   "source": [
    "X=train_df.loc[:,'LotFrontage':].as_matrix().astype('float');\n",
    "y=train_df['SalePrice'].ravel()"
   ]
  },
  {
   "cell_type": "code",
   "execution_count": 122,
   "metadata": {},
   "outputs": [
    {
     "name": "stdout",
     "output_type": "stream",
     "text": [
      "(1460L, 369L)\n",
      "(1460L,)\n"
     ]
    }
   ],
   "source": [
    "print(X.shape)\n",
    "print(y.shape)"
   ]
  },
  {
   "cell_type": "code",
   "execution_count": 123,
   "metadata": {},
   "outputs": [
    {
     "name": "stdout",
     "output_type": "stream",
     "text": [
      "180808.89897260274\n",
      "181370.38356164383\n"
     ]
    }
   ],
   "source": [
    "from sklearn.model_selection import train_test_split\n",
    "X_train,X_test,y_train,y_test=train_test_split(X,y,test_size=0.20,random_state=0)\n",
    "\n",
    "print np.mean(y_train)\n",
    "print np.mean(y_test)"
   ]
  },
  {
   "cell_type": "code",
   "execution_count": 124,
   "metadata": {},
   "outputs": [],
   "source": [
    "import sklearn\n",
    "from sklearn.dummy import DummyRegressor"
   ]
  },
  {
   "cell_type": "code",
   "execution_count": 125,
   "metadata": {},
   "outputs": [
    {
     "data": {
      "text/plain": [
       "-4.5651866949603104e-05"
      ]
     },
     "execution_count": 125,
     "metadata": {},
     "output_type": "execute_result"
    }
   ],
   "source": [
    "model_dummy=DummyRegressor(strategy='mean')\n",
    "model_dummy.fit(X_train,y_train)\n",
    "model_dummy.score(X_test,y_test)"
   ]
  },
  {
   "cell_type": "code",
   "execution_count": 126,
   "metadata": {},
   "outputs": [
    {
     "data": {
      "text/plain": [
       "-4.5651866949603104e-05"
      ]
     },
     "execution_count": 126,
     "metadata": {},
     "output_type": "execute_result"
    }
   ],
   "source": [
    "from sklearn.metrics import r2_score\n",
    "r2_score(y_test,model_dummy.predict(X_test))"
   ]
  },
  {
   "cell_type": "code",
   "execution_count": null,
   "metadata": {},
   "outputs": [],
   "source": []
  },
  {
   "cell_type": "code",
   "execution_count": 138,
   "metadata": {},
   "outputs": [],
   "source": [
    "submission_data_path=os.path.join(os.path.pardir,'data','external')\n",
    "submission_file_path=os.path.join(submission_data_path,'01_dummy.csv')\n",
    "\n",
    "def get_submission_file(model,filename):\n",
    "    test_X=test_df.loc[:,'LotFrontage':].as_matrix().astype('float')    \n",
    "    predictions=model.predict(test_X)\n",
    "    df_submission=pd.DataFrame({'Id':test_df.index,'SalePrice':predictions})\n",
    "    submission_data_path=os.path.join(os.path.pardir,'data','external')\n",
    "    submission_file_path=os.path.join(submission_data_path,filename)\n",
    "    df_submission.to_csv(submission_file_path,index=False)"
   ]
  },
  {
   "cell_type": "code",
   "execution_count": 139,
   "metadata": {},
   "outputs": [
    {
     "name": "stderr",
     "output_type": "stream",
     "text": [
      "C:\\ProgramData\\Anaconda2\\lib\\site-packages\\ipykernel_launcher.py:5: FutureWarning: Method .as_matrix will be removed in a future version. Use .values instead.\n",
      "  \"\"\"\n"
     ]
    }
   ],
   "source": [
    "get_submission_file(model_dummy,'03_dummy.csv')"
   ]
  },
  {
   "cell_type": "code",
   "execution_count": 140,
   "metadata": {},
   "outputs": [
    {
     "data": {
      "text/html": [
       "<h2>LINEAR REGRESSION MODEL</h2>"
      ],
      "text/plain": [
       "<IPython.core.display.HTML object>"
      ]
     },
     "metadata": {},
     "output_type": "display_data"
    }
   ],
   "source": [
    "%%HTML\n",
    "<h2>LINEAR REGRESSION MODEL</h2>"
   ]
  },
  {
   "cell_type": "code",
   "execution_count": 209,
   "metadata": {},
   "outputs": [
    {
     "name": "stdout",
     "output_type": "stream",
     "text": [
      "(0.4843063391208693, ' lr')\n",
      "(0.832110997101651, ' rf')\n",
      "(0.8563159467112446, ' gbr')\n",
      "(0.8671242928500361, ' etr')\n",
      "(0.6247350361413484, ' n')\n"
     ]
    }
   ],
   "source": [
    "from sklearn.linear_model import LinearRegression\n",
    "from sklearn.ensemble import RandomForestRegressor, GradientBoostingRegressor, ExtraTreesRegressor\n",
    "from sklearn.neighbors import KNeighborsRegressor\n",
    "\n",
    "model_lr=LinearRegression()\n",
    "model_rf=RandomForestRegressor()\n",
    "model_gbr=GradientBoostingRegressor()\n",
    "model_etr=ExtraTreesRegressor()\n",
    "model_n=KNeighborsRegressor()\n",
    "\n",
    "\n",
    "model_lr.fit(X_train,y_train)\n",
    "model_rf.fit(X_train,y_train)\n",
    "model_gbr.fit(X_train,y_train)\n",
    "model_etr.fit(X_train,y_train)\n",
    "model_n.fit(X_train,y_train)\n",
    "\n",
    "\n",
    "print(model_lr.score(X_test,y_test),' lr')\n",
    "print(model_rf.score(X_test,y_test),' rf')\n",
    "print(model_gbr.score(X_test,y_test),' gbr')\n",
    "print(model_etr.score(X_test,y_test),' etr')\n",
    "print(model_n.score(X_test,y_test),' n')\n",
    "\n"
   ]
  },
  {
   "cell_type": "code",
   "execution_count": 257,
   "metadata": {
    "scrolled": true
   },
   "outputs": [
    {
     "name": "stderr",
     "output_type": "stream",
     "text": [
      "C:\\ProgramData\\Anaconda2\\lib\\site-packages\\ipykernel_launcher.py:5: FutureWarning: Method .as_matrix will be removed in a future version. Use .values instead.\n",
      "  \"\"\"\n"
     ]
    }
   ],
   "source": [
    "\n",
    "get_submission_file(model_etr,'01_etr.csv')"
   ]
  },
  {
   "cell_type": "code",
   "execution_count": 256,
   "metadata": {},
   "outputs": [],
   "source": [
    "#from sklearn.preprocessing import MinMaxScaler,StandardScaler\n",
    "# standardization\n",
    "#scaler=StandardScaler()\n",
    "#X_train_scaled=scaler.fit_transform(X_train)\n",
    "#X_test_scaled=scaler.fit_transform(X_test)"
   ]
  },
  {
   "cell_type": "code",
   "execution_count": 214,
   "metadata": {},
   "outputs": [],
   "source": [
    "#model_etr_s=ExtraTreesRegressor()"
   ]
  },
  {
   "cell_type": "code",
   "execution_count": 215,
   "metadata": {},
   "outputs": [],
   "source": [
    "#model_etr_s.fit(X_train_scaled,y_train)"
   ]
  },
  {
   "cell_type": "code",
   "execution_count": 255,
   "metadata": {},
   "outputs": [],
   "source": [
    "#from sklearn.model_selection import GridSearchCV\n",
    "#paramters={'bootstrap':[True,False],'warm_start':[True,False],'n_estimators':[1,2,5,10,20]}\n",
    "#clf=GridSearchCV(model_etr_s,paramters,cv=3)"
   ]
  },
  {
   "cell_type": "code",
   "execution_count": 254,
   "metadata": {},
   "outputs": [],
   "source": [
    "#clf.fit(X_train_scaled,y_train)"
   ]
  },
  {
   "cell_type": "code",
   "execution_count": 253,
   "metadata": {},
   "outputs": [],
   "source": [
    "#clf.best_score_"
   ]
  },
  {
   "cell_type": "code",
   "execution_count": 252,
   "metadata": {},
   "outputs": [],
   "source": [
    "#clf.best_params_"
   ]
  },
  {
   "cell_type": "code",
   "execution_count": 251,
   "metadata": {},
   "outputs": [],
   "source": [
    "#print(clf.score(X_test_scaled ,y_test))\n",
    "#print(r2_score(clf.predict(X_test_scaled),y_test))\n",
    "#clf.predict(X_test)"
   ]
  },
  {
   "cell_type": "code",
   "execution_count": 250,
   "metadata": {},
   "outputs": [],
   "source": [
    "import pickle\n",
    "model_file_path=os.path.join(os.path.pardir,'models','etr_model.pkl')\n",
    "scaler_file_path=os.path.join(os.path.pardir,'models','etr_scaler.pkl')\n",
    "\n",
    "model_file_pickle=open(model_file_path,'wb')\n",
    "#scaler_file_pickle=open(scaler_file_path,'wb')\n",
    "\n",
    "pickle.dump(clf,model_file_pickle)\n",
    "#pickle.dump(scaler,scaler_file_pickle)\n",
    "\n",
    "model_file_pickle.close()\n",
    "#scaler_file_pickle.close()"
   ]
  },
  {
   "cell_type": "code",
   "execution_count": 234,
   "metadata": {},
   "outputs": [],
   "source": [
    "#def get_submission_file_new(model,filename):\n",
    "#    test_X=test_df.loc[:,'LotFrontage':].as_matrix().astype('float')  \n",
    "#    test_X_scaled=scaler.fit_transform(test_X)\n",
    "#    predictions=model.predict(test_X)    \n",
    "#    df_submission=pd.DataFrame({'Id':test_df.index,'SalePrice':predictions})\n",
    "#    submission_data_path=os.path.join(os.path.pardir,'data','external')\n",
    "#    submission_file_path=os.path.join(submission_data_path,filename)\n",
    "#    df_submission.to_csv(submission_file_path,index=False)"
   ]
  },
  {
   "cell_type": "code",
   "execution_count": 249,
   "metadata": {},
   "outputs": [],
   "source": [
    "#get_submission_file(clf,'02_etr_s.csv')"
   ]
  },
  {
   "cell_type": "code",
   "execution_count": 248,
   "metadata": {},
   "outputs": [],
   "source": [
    "#new_lr_model=LinearRegression(normalize=True)\n",
    "#test_X=test_df.loc[:,'LotFrontage':].as_matrix().astype('float')  \n",
    "#test_X_scaled=scaler.fit_transform(test_X)\n",
    "#predictions=clf.predict(test_X)    \n",
    "#print(predictions.mean())\n",
    "#print(clf.predict(X_train_scaled).mean())\n",
    "#print(y_train.mean())\n",
    "#print(clf.predict(X_test_scaled).mean())\n",
    "#print(y_test.mean())"
   ]
  },
  {
   "cell_type": "code",
   "execution_count": 247,
   "metadata": {},
   "outputs": [],
   "source": [
    "#new_lr_model.fit(X_train,y_train)"
   ]
  },
  {
   "cell_type": "code",
   "execution_count": 225,
   "metadata": {},
   "outputs": [],
   "source": [
    "#test_X=test_df.loc[:,'LotFrontage':].as_matrix().astype('float')  \n",
    "#predictions=new_lr_model.predict(test_X)\n",
    "#df_submission=pd.DataFrame({'Id':test_df.index,'SalePrice':predictions})\n",
    "#submission_data_path=os.path.join(os.path.pardir,'data','external')\n",
    "#submission_file_path=os.path.join(submission_data_path,'unscaled.csv')\n",
    "#df_submission.to_csv(submission_file_path,index=False)"
   ]
  },
  {
   "cell_type": "code",
   "execution_count": null,
   "metadata": {},
   "outputs": [],
   "source": []
  },
  {
   "cell_type": "code",
   "execution_count": 245,
   "metadata": {},
   "outputs": [],
   "source": [
    "#train_df.SalePrice.mean()"
   ]
  },
  {
   "cell_type": "code",
   "execution_count": 244,
   "metadata": {},
   "outputs": [],
   "source": [
    "#train_df.SalePrice.median()"
   ]
  },
  {
   "cell_type": "code",
   "execution_count": 229,
   "metadata": {},
   "outputs": [],
   "source": [
    "#predictions # :("
   ]
  },
  {
   "cell_type": "code",
   "execution_count": null,
   "metadata": {},
   "outputs": [],
   "source": []
  },
  {
   "cell_type": "code",
   "execution_count": 228,
   "metadata": {},
   "outputs": [],
   "source": [
    "#pd.options.display.float_format = '{:.23g}'.format\n",
    "#train_df.var()"
   ]
  },
  {
   "cell_type": "code",
   "execution_count": 206,
   "metadata": {},
   "outputs": [],
   "source": [
    "#train_df.var()"
   ]
  },
  {
   "cell_type": "code",
   "execution_count": null,
   "metadata": {},
   "outputs": [],
   "source": []
  },
  {
   "cell_type": "code",
   "execution_count": null,
   "metadata": {},
   "outputs": [],
   "source": []
  }
 ],
 "metadata": {
  "kernelspec": {
   "display_name": "Python 2",
   "language": "python",
   "name": "python2"
  },
  "language_info": {
   "codemirror_mode": {
    "name": "ipython",
    "version": 2
   },
   "file_extension": ".py",
   "mimetype": "text/x-python",
   "name": "python",
   "nbconvert_exporter": "python",
   "pygments_lexer": "ipython2",
   "version": "2.7.15"
  }
 },
 "nbformat": 4,
 "nbformat_minor": 2
}
