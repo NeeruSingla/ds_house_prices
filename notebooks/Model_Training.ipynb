{
 "cells": [
  {
   "cell_type": "code",
   "execution_count": 1,
   "metadata": {},
   "outputs": [],
   "source": [
    "import os\n",
    "import pandas as pd\n",
    "import numpy as np\n",
    "\n",
    "processed_data_path=os.path.join(os.path.pardir,'data','processed')\n",
    "write_train_path=os.path.join(processed_data_path,'train.csv')\n",
    "write_test_path=os.path.join(processed_data_path,'test.csv')\n",
    "\n",
    "train_df=pd.read_csv(write_train_path,index_col='Id')\n",
    "test_df=pd.read_csv(write_test_path,index_col='Id')"
   ]
  },
  {
   "cell_type": "code",
   "execution_count": 4,
   "metadata": {},
   "outputs": [
    {
     "name": "stderr",
     "output_type": "stream",
     "text": [
      "C:\\ProgramData\\Anaconda2\\lib\\site-packages\\ipykernel_launcher.py:1: FutureWarning: Method .as_matrix will be removed in a future version. Use .values instead.\n",
      "  \"\"\"Entry point for launching an IPython kernel.\n"
     ]
    }
   ],
   "source": [
    "X=train_df.loc[:,'LotFrontage':].as_matrix().astype('float');\n",
    "y=train_df['SalePrice'].ravel()"
   ]
  },
  {
   "cell_type": "code",
   "execution_count": 7,
   "metadata": {},
   "outputs": [
    {
     "name": "stdout",
     "output_type": "stream",
     "text": [
      "(1460L, 369L)\n",
      "(1460L,)\n"
     ]
    }
   ],
   "source": [
    "print(X.shape)\n",
    "print(y.shape)"
   ]
  },
  {
   "cell_type": "code",
   "execution_count": 12,
   "metadata": {},
   "outputs": [
    {
     "name": "stdout",
     "output_type": "stream",
     "text": [
      "180808.89897260274\n",
      "181370.38356164383\n"
     ]
    }
   ],
   "source": [
    "from sklearn.model_selection import train_test_split\n",
    "X_train,X_test,y_train,y_test=train_test_split(X,y,test_size=0.20,random_state=0)\n",
    "\n",
    "print np.mean(y_train)\n",
    "print np.mean(y_test)"
   ]
  },
  {
   "cell_type": "code",
   "execution_count": 13,
   "metadata": {},
   "outputs": [],
   "source": [
    "import sklearn\n",
    "from sklearn.dummy import DummyRegressor"
   ]
  },
  {
   "cell_type": "code",
   "execution_count": 19,
   "metadata": {},
   "outputs": [
    {
     "data": {
      "text/plain": [
       "-4.5651866949603104e-05"
      ]
     },
     "execution_count": 19,
     "metadata": {},
     "output_type": "execute_result"
    }
   ],
   "source": [
    "model_dummy=DummyRegressor(strategy='mean')\n",
    "model_dummy.fit(X_train,y_train)\n",
    "model_dummy.score(X_test,y_test)"
   ]
  },
  {
   "cell_type": "code",
   "execution_count": 23,
   "metadata": {},
   "outputs": [
    {
     "data": {
      "text/plain": [
       "-4.5651866949603104e-05"
      ]
     },
     "execution_count": 23,
     "metadata": {},
     "output_type": "execute_result"
    }
   ],
   "source": [
    "from sklearn.metrics import r2_score\n",
    "r2_score(y_test,model_dummy.predict(X_test))"
   ]
  },
  {
   "cell_type": "code",
   "execution_count": null,
   "metadata": {},
   "outputs": [],
   "source": []
  },
  {
   "cell_type": "code",
   "execution_count": 25,
   "metadata": {},
   "outputs": [],
   "source": [
    "submission_data_path=os.path.join(os.path.pardir,'data','external')\n",
    "submission_file_path=os.path.join(submission_data_path,'01_dummy.csv')\n",
    "\n",
    "def get_submission_file(model,filename):\n",
    "    test_X=test_df.loc[:,'LotFrontage':].as_matrix().astype('float')    \n",
    "    predictions=model.predict(test_X)\n",
    "    df_submission=pd.DataFrame({'Id':test_df.index,'SalePrice':predictions})\n",
    "    submission_data_path=os.path.join(os.path.pardir,'data','external')\n",
    "    submission_file_path=os.path.join(submission_data_path,filename)\n",
    "    df_submission.to_csv(submission_file_path,index=False)"
   ]
  },
  {
   "cell_type": "code",
   "execution_count": 26,
   "metadata": {},
   "outputs": [
    {
     "name": "stderr",
     "output_type": "stream",
     "text": [
      "C:\\ProgramData\\Anaconda2\\lib\\site-packages\\ipykernel_launcher.py:5: FutureWarning: Method .as_matrix will be removed in a future version. Use .values instead.\n",
      "  \"\"\"\n"
     ]
    }
   ],
   "source": [
    "get_submission_file(model_dummy,'03_dummy.csv')"
   ]
  },
  {
   "cell_type": "code",
   "execution_count": 27,
   "metadata": {},
   "outputs": [
    {
     "data": {
      "text/html": [
       "<h2>LINEAR REGRESSION MODEL</h2>"
      ],
      "text/plain": [
       "<IPython.core.display.HTML object>"
      ]
     },
     "metadata": {},
     "output_type": "display_data"
    }
   ],
   "source": [
    "%%HTML\n",
    "<h2>LINEAR REGRESSION MODEL</h2>"
   ]
  },
  {
   "cell_type": "code",
   "execution_count": 30,
   "metadata": {},
   "outputs": [
    {
     "data": {
      "text/plain": [
       "0.4843063391208693"
      ]
     },
     "execution_count": 30,
     "metadata": {},
     "output_type": "execute_result"
    }
   ],
   "source": [
    "from sklearn.linear_model import LinearRegression\n",
    "model_lr=LinearRegression()\n",
    "model_lr.fit(X_train,y_train)\n",
    "model_lr.score(X_test,y_test)"
   ]
  },
  {
   "cell_type": "code",
   "execution_count": 32,
   "metadata": {},
   "outputs": [
    {
     "name": "stderr",
     "output_type": "stream",
     "text": [
      "C:\\ProgramData\\Anaconda2\\lib\\site-packages\\ipykernel_launcher.py:5: FutureWarning: Method .as_matrix will be removed in a future version. Use .values instead.\n",
      "  \"\"\"\n"
     ]
    }
   ],
   "source": [
    "\n",
    "get_submission_file(model_lr,'01_lr.csv')"
   ]
  },
  {
   "cell_type": "code",
   "execution_count": 58,
   "metadata": {},
   "outputs": [],
   "source": [
    "from sklearn.preprocessing import MinMaxScaler,StandardScaler\n",
    "# standardization\n",
    "scaler=StandardScaler()\n",
    "X_train_scaled=scaler.fit_transform(X_train)\n",
    "X_test_scaled=scaler.fit_transform(X_test)"
   ]
  },
  {
   "cell_type": "code",
   "execution_count": 59,
   "metadata": {},
   "outputs": [],
   "source": [
    "model_lr=LinearRegression()"
   ]
  },
  {
   "cell_type": "code",
   "execution_count": 72,
   "metadata": {},
   "outputs": [
    {
     "data": {
      "text/plain": [
       "LinearRegression(copy_X=True, fit_intercept=True, n_jobs=1, normalize=False)"
      ]
     },
     "execution_count": 72,
     "metadata": {},
     "output_type": "execute_result"
    }
   ],
   "source": [
    "model_lr.fit(X_train_scaled,y_train)"
   ]
  },
  {
   "cell_type": "code",
   "execution_count": 73,
   "metadata": {},
   "outputs": [],
   "source": [
    "from sklearn.model_selection import GridSearchCV\n",
    "paramters={'normalize':[True,False],'fit_intercept':[True,False]}\n",
    "clf=GridSearchCV(model_lr,paramters,cv=15)"
   ]
  },
  {
   "cell_type": "code",
   "execution_count": 82,
   "metadata": {},
   "outputs": [
    {
     "data": {
      "text/plain": [
       "GridSearchCV(cv=15, error_score='raise',\n",
       "       estimator=LinearRegression(copy_X=True, fit_intercept=True, n_jobs=1, normalize=False),\n",
       "       fit_params=None, iid=True, n_jobs=1,\n",
       "       param_grid={'normalize': [True, False], 'fit_intercept': [True, False]},\n",
       "       pre_dispatch='2*n_jobs', refit=True, return_train_score='warn',\n",
       "       scoring=None, verbose=0)"
      ]
     },
     "execution_count": 82,
     "metadata": {},
     "output_type": "execute_result"
    }
   ],
   "source": [
    "clf.fit(X_train_scaled,y_train)"
   ]
  },
  {
   "cell_type": "code",
   "execution_count": 83,
   "metadata": {},
   "outputs": [
    {
     "data": {
      "text/plain": [
       "-3.033129211749749e+24"
      ]
     },
     "execution_count": 83,
     "metadata": {},
     "output_type": "execute_result"
    }
   ],
   "source": [
    "clf.best_score_"
   ]
  },
  {
   "cell_type": "code",
   "execution_count": 84,
   "metadata": {},
   "outputs": [
    {
     "data": {
      "text/plain": [
       "{'fit_intercept': False, 'normalize': True}"
      ]
     },
     "execution_count": 84,
     "metadata": {},
     "output_type": "execute_result"
    }
   ],
   "source": [
    "clf.best_params_"
   ]
  },
  {
   "cell_type": "code",
   "execution_count": 86,
   "metadata": {},
   "outputs": [
    {
     "name": "stdout",
     "output_type": "stream",
     "text": [
      "0.0\n"
     ]
    },
    {
     "data": {
      "text/plain": [
       "array([2.02209283e+21, 1.11396869e+21, 8.37669438e+20, 1.28199887e+21,\n",
       "       6.06828888e+20, 1.01145176e+21, 1.12287602e+21, 8.38501968e+20,\n",
       "       2.91657940e+21, 6.33991207e+20, 1.02560772e+21, 1.29933341e+21,\n",
       "       1.20751133e+21, 6.59000516e+20, 8.06814517e+20, 1.00407457e+21,\n",
       "       1.21286418e+21, 7.38267232e+20, 9.24056850e+20, 1.09913202e+21,\n",
       "       9.05353182e+20, 5.99165721e+20, 1.00736996e+21, 8.58745420e+20,\n",
       "       1.12912349e+21, 1.06749318e+21, 9.35256300e+20, 7.30372273e+20,\n",
       "       1.34007926e+21, 7.80200992e+20, 1.39430477e+21, 1.12195716e+21,\n",
       "       6.63629945e+20, 1.35911183e+21, 1.59921664e+21, 8.48196073e+20,\n",
       "       1.22837221e+21, 8.99468594e+20, 1.23611020e+21, 1.69193386e+21,\n",
       "       1.75026067e+21, 1.09037770e+21, 9.86308831e+20, 1.43462669e+21,\n",
       "       1.77716969e+21, 1.50333438e+21, 9.22786278e+20, 1.03590221e+21,\n",
       "       1.31352392e+21, 7.17600312e+20, 1.75530879e+21, 7.99553167e+20,\n",
       "       1.01705562e+21, 5.69511692e+20, 1.28947451e+21, 6.30357489e+20,\n",
       "       8.72134331e+20, 1.07769302e+21, 8.39552652e+20, 6.56122235e+20,\n",
       "       7.85472943e+20, 7.80117062e+20, 9.36796914e+20, 8.67550980e+20,\n",
       "       1.31705623e+21, 1.49735235e+21, 6.76378840e+20, 9.99197973e+20,\n",
       "       7.32932093e+20, 1.02668845e+21, 8.38012296e+20, 7.95194241e+20,\n",
       "       7.58896292e+20, 1.07996400e+21, 7.18843406e+20, 1.26706863e+21,\n",
       "       7.50057830e+20, 1.00489406e+21, 1.56415642e+21, 1.30387797e+21,\n",
       "       6.97069017e+20, 6.17643987e+20, 8.38624728e+20, 7.34838344e+20,\n",
       "       3.40868669e+21, 1.01680038e+21, 7.26320624e+20, 1.04075717e+21,\n",
       "       9.06652892e+20, 8.07661890e+20, 9.89125459e+20, 9.29523045e+20,\n",
       "       8.72474628e+20, 1.12888541e+21, 9.43818750e+20, 9.47493612e+20,\n",
       "       1.14019799e+21, 1.11234486e+21, 6.23888891e+20, 1.06032392e+21,\n",
       "       1.35596430e+21, 1.02155061e+21, 1.08287946e+21, 8.29774437e+20,\n",
       "       5.04336875e+20, 1.52145547e+21, 8.37309404e+20, 6.95827600e+20,\n",
       "       8.79827465e+20, 8.35538649e+20, 4.91762507e+20, 7.69260144e+20,\n",
       "       1.26273558e+21, 7.28242071e+20, 8.56171120e+20, 9.33387818e+20,\n",
       "       1.90841745e+21, 7.79671812e+20, 1.36405336e+21, 1.22756319e+21,\n",
       "       8.10071057e+20, 8.20285392e+20, 7.33610311e+20, 1.25702346e+21,\n",
       "       1.23370545e+21, 1.14184579e+21, 1.67768729e+21, 9.81769157e+20,\n",
       "       9.44612792e+20, 1.18239492e+21, 1.02743328e+21, 9.32967128e+20,\n",
       "       1.42769419e+21, 1.10659275e+21, 6.12057240e+20, 1.91389579e+21,\n",
       "       9.55007266e+20, 1.02459816e+21, 6.47436795e+20, 9.59335493e+20,\n",
       "       8.49799180e+20, 8.46170239e+20, 2.28644952e+21, 8.59192052e+20,\n",
       "       9.73070214e+20, 8.70985439e+20, 1.12007199e+21, 7.81938225e+20,\n",
       "       1.38521331e+21, 1.15175255e+21, 1.09853340e+21, 1.34373135e+21,\n",
       "       1.41045474e+21, 1.43279595e+21, 1.01742403e+21, 1.99027828e+21,\n",
       "       8.47349258e+20, 9.14472337e+20, 8.40393168e+20, 9.25048146e+20,\n",
       "       7.29939425e+20, 8.99542870e+20, 9.25951925e+20, 7.20364171e+20,\n",
       "       1.21451815e+21, 1.02031853e+21, 1.17176532e+21, 1.47495135e+21,\n",
       "       1.03383636e+21, 1.04093607e+21, 1.44221060e+21, 9.71019109e+20,\n",
       "       9.99506001e+20, 8.82033352e+20, 7.19623644e+20, 6.46745119e+20,\n",
       "       8.46334801e+20, 1.81525002e+21, 8.45615550e+20, 8.01035912e+20,\n",
       "       1.45643207e+21, 1.29357713e+21, 7.00578201e+20, 1.32590955e+21,\n",
       "       6.26067551e+20, 1.21641929e+21, 5.53609790e+20, 9.14468713e+20,\n",
       "       1.07278482e+21, 6.08000040e+20, 7.28541536e+20, 1.07699813e+21,\n",
       "       1.18189706e+21, 6.69754755e+20, 8.42884361e+20, 7.43473091e+20,\n",
       "       4.32835971e+20, 8.77358827e+20, 1.02880801e+21, 8.29706758e+20,\n",
       "       1.02757578e+21, 9.31109479e+20, 6.21960569e+20, 7.78264686e+20,\n",
       "       1.18719652e+21, 1.65995511e+21, 9.49566884e+20, 1.45940809e+21,\n",
       "       1.39769906e+21, 6.44406548e+20, 8.29252752e+20, 1.30225723e+21,\n",
       "       8.57216193e+20, 5.75166024e+20, 1.44221546e+21, 1.97713409e+21,\n",
       "       1.07752108e+21, 2.56241644e+21, 1.28621912e+21, 4.50256394e+20,\n",
       "       1.14254714e+21, 1.04677745e+21, 1.05888947e+21, 6.17933360e+20,\n",
       "       1.16493979e+21, 1.24858403e+21, 1.34874285e+21, 1.87971004e+21,\n",
       "       9.49319506e+20, 1.04712855e+21, 8.58364487e+20, 7.67195347e+20,\n",
       "       6.19301124e+20, 8.12796432e+20, 1.14774697e+21, 8.84002830e+20,\n",
       "       1.09070221e+21, 5.97918240e+20, 9.49692807e+20, 1.14604272e+21,\n",
       "       7.78918184e+20, 1.03085706e+21, 1.08232683e+21, 1.07944826e+21,\n",
       "       9.47930166e+20, 8.13812007e+20, 1.04051099e+21, 9.31965297e+20,\n",
       "       8.82194253e+20, 1.09706074e+21, 1.23530245e+21, 1.21797553e+21,\n",
       "       6.18277846e+20, 1.83269342e+21, 9.98738795e+20, 1.43529716e+21,\n",
       "       6.44007444e+20, 1.22844058e+21, 2.09807591e+21, 4.25730964e+21,\n",
       "       1.09203666e+21, 8.90327207e+20, 1.14037626e+21, 8.21461573e+20,\n",
       "       1.64426157e+21, 1.39019761e+21, 1.92962532e+21, 3.26844684e+20,\n",
       "       1.25351432e+21, 1.31552340e+21, 9.10197804e+20, 1.34386125e+21,\n",
       "       9.89140887e+20, 1.23310746e+21, 2.22229173e+21, 1.24831450e+21,\n",
       "       1.16400697e+21, 1.07661630e+21, 1.14644454e+21, 8.95495770e+20,\n",
       "       6.43290617e+20, 1.56462263e+21, 8.94535209e+20, 1.03199314e+21,\n",
       "       9.70955789e+20, 1.69117504e+21, 7.33574349e+20, 1.33518616e+21,\n",
       "       2.19538954e+21, 2.04569186e+21, 5.36270862e+20, 6.49259006e+20])"
      ]
     },
     "execution_count": 86,
     "metadata": {},
     "output_type": "execute_result"
    }
   ],
   "source": [
    "#clf.score(X_test_scaled ,y_test)\n",
    "print(r2_score(clf.predict(X_test_scaled),y_test))\n",
    "clf.predict(X_test)"
   ]
  },
  {
   "cell_type": "code",
   "execution_count": 65,
   "metadata": {},
   "outputs": [],
   "source": [
    "import pickle\n",
    "model_file_path=os.path.join(os.path.pardir,'models','lr_model.pkl')\n",
    "scaler_file_path=os.path.join(os.path.pardir,'models','lr_scaler.pkl')\n",
    "\n",
    "model_file_pickle=open(model_file_path,'wb')\n",
    "scaler_file_pickle=open(scaler_file_path,'wb')\n",
    "\n",
    "pickle.dump(clf,model_file_pickle)\n",
    "pickle.dump(scaler,scaler_file_pickle)\n",
    "\n",
    "model_file_pickle.close()\n",
    "scaler_file_pickle.close()"
   ]
  },
  {
   "cell_type": "code",
   "execution_count": 66,
   "metadata": {},
   "outputs": [],
   "source": [
    "def get_submission_file_new(model,filename):\n",
    "    test_X=test_df.loc[:,'LotFrontage':].as_matrix().astype('float')  \n",
    "    test_X_scaled=scaler.fit_transform(test_X)\n",
    "    predictions=model.predict(test_X)\n",
    "    df_submission=pd.DataFrame({'Id':test_df.index,'SalePrice':predictions})\n",
    "    submission_data_path=os.path.join(os.path.pardir,'data','external')\n",
    "    submission_file_path=os.path.join(submission_data_path,filename)\n",
    "    df_submission.to_csv(submission_file_path,index=False)"
   ]
  },
  {
   "cell_type": "code",
   "execution_count": 67,
   "metadata": {},
   "outputs": [
    {
     "name": "stderr",
     "output_type": "stream",
     "text": [
      "C:\\ProgramData\\Anaconda2\\lib\\site-packages\\ipykernel_launcher.py:5: FutureWarning: Method .as_matrix will be removed in a future version. Use .values instead.\n",
      "  \"\"\"\n"
     ]
    }
   ],
   "source": [
    "get_submission_file(clf,'02_lr_scaled.csv')"
   ]
  },
  {
   "cell_type": "code",
   "execution_count": 89,
   "metadata": {},
   "outputs": [],
   "source": [
    "new_lr_model=LinearRegression(normalize=True)"
   ]
  },
  {
   "cell_type": "code",
   "execution_count": 98,
   "metadata": {},
   "outputs": [
    {
     "data": {
      "text/plain": [
       "LinearRegression(copy_X=True, fit_intercept=True, n_jobs=1, normalize=True)"
      ]
     },
     "execution_count": 98,
     "metadata": {},
     "output_type": "execute_result"
    }
   ],
   "source": [
    "new_lr_model.fit(X_train,y_train)"
   ]
  },
  {
   "cell_type": "code",
   "execution_count": 108,
   "metadata": {},
   "outputs": [
    {
     "name": "stderr",
     "output_type": "stream",
     "text": [
      "C:\\ProgramData\\Anaconda2\\lib\\site-packages\\ipykernel_launcher.py:1: FutureWarning: Method .as_matrix will be removed in a future version. Use .values instead.\n",
      "  \"\"\"Entry point for launching an IPython kernel.\n"
     ]
    }
   ],
   "source": [
    "test_X=test_df.loc[:,'LotFrontage':].as_matrix().astype('float')  \n",
    "predictions=new_lr_model.predict(test_X)\n",
    "df_submission=pd.DataFrame({'Id':test_df.index,'SalePrice':predictions})\n",
    "submission_data_path=os.path.join(os.path.pardir,'data','external')\n",
    "submission_file_path=os.path.join(submission_data_path,'unscaled.csv')\n",
    "df_submission.to_csv(submission_file_path,index=False)"
   ]
  },
  {
   "cell_type": "code",
   "execution_count": 116,
   "metadata": {},
   "outputs": [
    {
     "name": "stderr",
     "output_type": "stream",
     "text": [
      "C:\\ProgramData\\Anaconda2\\lib\\site-packages\\ipykernel_launcher.py:5: FutureWarning: Method .as_matrix will be removed in a future version. Use .values instead.\n",
      "  \"\"\"\n"
     ]
    }
   ],
   "source": [
    "new_lr_model=LinearRegression(normalize=True)\n",
    "new_lr_model.fit(X_train_scaled,y_train)\n",
    "\n",
    "\n",
    "test_X=test_df.loc[:,'LotFrontage':].as_matrix().astype('float')  \n",
    "test_X_scaled=scaler.fit_transform(test_X)\n",
    "predictions=new_lr_model.predict(test_X_scaled)\n",
    "df_submission=pd.DataFrame({'Id':test_df.index,'SalePrice':predictions})\n",
    "submission_data_path=os.path.join(os.path.pardir,'data','external')\n",
    "submission_file_path=os.path.join(submission_data_path,'scaled.csv')\n",
    "df_submission.to_csv(submission_file_path,index=False)"
   ]
  },
  {
   "cell_type": "code",
   "execution_count": 117,
   "metadata": {},
   "outputs": [
    {
     "data": {
      "text/plain": [
       "180921.19589041095"
      ]
     },
     "execution_count": 117,
     "metadata": {},
     "output_type": "execute_result"
    }
   ],
   "source": [
    "train_df.SalePrice.mean()"
   ]
  },
  {
   "cell_type": "code",
   "execution_count": 112,
   "metadata": {},
   "outputs": [
    {
     "data": {
      "text/plain": [
       "163000.0"
      ]
     },
     "execution_count": 112,
     "metadata": {},
     "output_type": "execute_result"
    }
   ],
   "source": [
    "train_df.SalePrice.median()"
   ]
  },
  {
   "cell_type": "code",
   "execution_count": 118,
   "metadata": {},
   "outputs": [
    {
     "data": {
      "text/plain": [
       "array([5.84762354e+16, 5.13922071e+16, 6.48920909e+16, ...,\n",
       "       7.18017069e+16, 1.06084996e+17, 9.95410713e+16])"
      ]
     },
     "execution_count": 118,
     "metadata": {},
     "output_type": "execute_result"
    }
   ],
   "source": [
    "predictions"
   ]
  },
  {
   "cell_type": "code",
   "execution_count": null,
   "metadata": {},
   "outputs": [],
   "source": []
  }
 ],
 "metadata": {
  "kernelspec": {
   "display_name": "Python 2",
   "language": "python",
   "name": "python2"
  },
  "language_info": {
   "codemirror_mode": {
    "name": "ipython",
    "version": 2
   },
   "file_extension": ".py",
   "mimetype": "text/x-python",
   "name": "python",
   "nbconvert_exporter": "python",
   "pygments_lexer": "ipython2",
   "version": "2.7.15"
  }
 },
 "nbformat": 4,
 "nbformat_minor": 2
}
